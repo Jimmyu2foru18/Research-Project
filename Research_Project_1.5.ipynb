{
 "cells": [
  {
   "cell_type": "code",
   "execution_count": 1,
   "id": "05e7a0e6-276d-43fb-b7a5-63e5a32fbcb2",
   "metadata": {},
   "outputs": [
    {
     "name": "stdout",
     "output_type": "stream",
     "text": [
      "Defaulting to user installation because normal site-packages is not writeable\n",
      "Requirement already satisfied: PyGithub in c:\\users\\jimmy\\appdata\\roaming\\python\\python312\\site-packages (2.4.0)\n",
      "Requirement already satisfied: pandas in c:\\users\\jimmy\\appdata\\roaming\\python\\python312\\site-packages (2.2.2)\n",
      "Requirement already satisfied: openai in c:\\users\\jimmy\\appdata\\roaming\\python\\python312\\site-packages (1.51.2)\n",
      "Requirement already satisfied: pynacl>=1.4.0 in c:\\users\\jimmy\\appdata\\roaming\\python\\python312\\site-packages (from PyGithub) (1.5.0)\n",
      "Requirement already satisfied: requests>=2.14.0 in c:\\users\\jimmy\\appdata\\roaming\\python\\python312\\site-packages (from PyGithub) (2.32.3)\n",
      "Requirement already satisfied: pyjwt>=2.4.0 in c:\\users\\jimmy\\appdata\\roaming\\python\\python312\\site-packages (from pyjwt[crypto]>=2.4.0->PyGithub) (2.9.0)\n",
      "Requirement already satisfied: typing-extensions>=4.0.0 in c:\\users\\jimmy\\appdata\\roaming\\python\\python312\\site-packages (from PyGithub) (4.12.2)\n",
      "Requirement already satisfied: urllib3>=1.26.0 in c:\\users\\jimmy\\appdata\\roaming\\python\\python312\\site-packages (from PyGithub) (2.2.3)\n",
      "Requirement already satisfied: Deprecated in c:\\users\\jimmy\\appdata\\roaming\\python\\python312\\site-packages (from PyGithub) (1.2.14)\n",
      "Requirement already satisfied: numpy>=1.26.0 in c:\\program files\\python312\\lib\\site-packages (from pandas) (1.26.4)\n",
      "Requirement already satisfied: python-dateutil>=2.8.2 in c:\\users\\jimmy\\appdata\\roaming\\python\\python312\\site-packages (from pandas) (2.9.0.post0)\n",
      "Requirement already satisfied: pytz>=2020.1 in c:\\users\\jimmy\\appdata\\roaming\\python\\python312\\site-packages (from pandas) (2024.2)\n",
      "Requirement already satisfied: tzdata>=2022.7 in c:\\users\\jimmy\\appdata\\roaming\\python\\python312\\site-packages (from pandas) (2024.1)\n",
      "Requirement already satisfied: anyio<5,>=3.5.0 in c:\\users\\jimmy\\appdata\\roaming\\python\\python312\\site-packages (from openai) (4.4.0)\n",
      "Requirement already satisfied: distro<2,>=1.7.0 in c:\\users\\jimmy\\appdata\\roaming\\python\\python312\\site-packages (from openai) (1.9.0)\n",
      "Requirement already satisfied: httpx<1,>=0.23.0 in c:\\users\\jimmy\\appdata\\roaming\\python\\python312\\site-packages (from openai) (0.27.2)\n",
      "Requirement already satisfied: jiter<1,>=0.4.0 in c:\\users\\jimmy\\appdata\\roaming\\python\\python312\\site-packages (from openai) (0.6.1)\n",
      "Requirement already satisfied: pydantic<3,>=1.9.0 in c:\\users\\jimmy\\appdata\\roaming\\python\\python312\\site-packages (from openai) (2.9.2)\n",
      "Requirement already satisfied: sniffio in c:\\users\\jimmy\\appdata\\roaming\\python\\python312\\site-packages (from openai) (1.3.1)\n",
      "Requirement already satisfied: tqdm>4 in c:\\users\\jimmy\\appdata\\roaming\\python\\python312\\site-packages (from openai) (4.66.5)\n",
      "Requirement already satisfied: idna>=2.8 in c:\\users\\jimmy\\appdata\\roaming\\python\\python312\\site-packages (from anyio<5,>=3.5.0->openai) (3.8)\n",
      "Requirement already satisfied: certifi in c:\\users\\jimmy\\appdata\\roaming\\python\\python312\\site-packages (from httpx<1,>=0.23.0->openai) (2024.8.30)\n",
      "Requirement already satisfied: httpcore==1.* in c:\\users\\jimmy\\appdata\\roaming\\python\\python312\\site-packages (from httpx<1,>=0.23.0->openai) (1.0.5)\n",
      "Requirement already satisfied: h11<0.15,>=0.13 in c:\\users\\jimmy\\appdata\\roaming\\python\\python312\\site-packages (from httpcore==1.*->httpx<1,>=0.23.0->openai) (0.14.0)\n",
      "Requirement already satisfied: annotated-types>=0.6.0 in c:\\users\\jimmy\\appdata\\roaming\\python\\python312\\site-packages (from pydantic<3,>=1.9.0->openai) (0.7.0)\n",
      "Requirement already satisfied: pydantic-core==2.23.4 in c:\\users\\jimmy\\appdata\\roaming\\python\\python312\\site-packages (from pydantic<3,>=1.9.0->openai) (2.23.4)\n",
      "Requirement already satisfied: cryptography>=3.4.0 in c:\\users\\jimmy\\appdata\\roaming\\python\\python312\\site-packages (from pyjwt[crypto]>=2.4.0->PyGithub) (43.0.1)\n",
      "Requirement already satisfied: cffi>=1.4.1 in c:\\users\\jimmy\\appdata\\roaming\\python\\python312\\site-packages (from pynacl>=1.4.0->PyGithub) (1.17.1)\n",
      "Requirement already satisfied: six>=1.5 in c:\\users\\jimmy\\appdata\\roaming\\python\\python312\\site-packages (from python-dateutil>=2.8.2->pandas) (1.16.0)\n",
      "Requirement already satisfied: charset-normalizer<4,>=2 in c:\\users\\jimmy\\appdata\\roaming\\python\\python312\\site-packages (from requests>=2.14.0->PyGithub) (3.3.2)\n",
      "Requirement already satisfied: colorama in c:\\users\\jimmy\\appdata\\roaming\\python\\python312\\site-packages (from tqdm>4->openai) (0.4.6)\n",
      "Requirement already satisfied: wrapt<2,>=1.10 in c:\\users\\jimmy\\appdata\\roaming\\python\\python312\\site-packages (from Deprecated->PyGithub) (1.16.0)\n",
      "Requirement already satisfied: pycparser in c:\\users\\jimmy\\appdata\\roaming\\python\\python312\\site-packages (from cffi>=1.4.1->pynacl>=1.4.0->PyGithub) (2.22)\n"
     ]
    }
   ],
   "source": [
    "!pip install PyGithub pandas openai"
   ]
  },
  {
   "cell_type": "code",
   "execution_count": 2,
   "id": "f8547329-e30c-43f6-8443-67a98cb55062",
   "metadata": {},
   "outputs": [
    {
     "name": "stdin",
     "output_type": "stream",
     "text": [
      "Enter a keyword to search for GitHub repositories:  stable diffusion\n",
      "Enter keywords to analyze in the README (comma-separated):  help\n"
     ]
    },
    {
     "name": "stdout",
     "output_type": "stream",
     "text": [
      "GitHub search error: 401 {\"message\": \"Bad credentials\", \"documentation_url\": \"https://docs.github.com/rest\", \"status\": \"401\"}\n"
     ]
    }
   ],
   "source": [
    "import os\n",
    "import openai\n",
    "from github import Github\n",
    "import pandas as pd  \n",
    "\n",
    "github_token = os.getenv('GITHUB_TOKEN')\n",
    "openai.api_key = os.getenv('OPENAI_API_KEY')\n",
    "\n",
    "if not openai.api_key or not github_token:\n",
    "    raise ValueError(\"API keys are not set. Please add the AI and GitHub API keys.\")\n",
    "\n",
    "g = Github(github_token)\n",
    "\n",
    "def search_repositories(keyword, language=\"python\", stars=\">=100\", max_repos=10):\n",
    "    query = f\"{keyword} language:{language} stars:{stars}\"\n",
    "    results = []\n",
    "    try:\n",
    "        for repo in g.search_repositories(query=query, sort=\"stars\", order=\"desc\")[:max_repos]:\n",
    "            results.append({\n",
    "                'full_name': repo.full_name,\n",
    "                'html_url': repo.html_url,\n",
    "                'description': repo.description\n",
    "            })\n",
    "        print(f\"Found {len(results)} repositories for keyword '{keyword}'.\")\n",
    "    except Exception as e:\n",
    "        print(f\"GitHub search error: {e}\")\n",
    "    return results\n",
    "\n",
    "def fetch_repository_details(repo_name):\n",
    "    try:\n",
    "        repo = g.get_repo(repo_name)\n",
    "        return repo.get_readme().decoded_content.decode(\"utf-8\")\n",
    "    except Exception as e:\n",
    "        print(f\"Error fetching {repo_name}: {e}\")\n",
    "        return None\n",
    "\n",
    "def analyze_readme_keywords(readme_content, keywords):\n",
    "    \"\"\"Analyze the README content for specified keywords.\"\"\"\n",
    "    data = pd.DataFrame({'content': [readme_content]})  # Using pandas\n",
    "    return {keyword: data['content'].str.contains(keyword).sum() for keyword in keywords}\n",
    "\n",
    "def process_repository(repo_full_name, keywords):\n",
    "    readme_content = fetch_repository_details(repo_full_name)\n",
    "    if readme_content:\n",
    "        keyword_counts = analyze_readme_keywords(readme_content, keywords)\n",
    "        print(f\"Keyword counts for {repo_full_name}: {keyword_counts}\")\n",
    "\n",
    "if __name__ == \"__main__\":\n",
    "    keyword = input(\"Enter a keyword to search for GitHub repositories: \")\n",
    "    keywords = input(\"Enter keywords to analyze in the README (comma-separated): \").split(',')\n",
    "    keywords = [k.strip() for k in keywords]\n",
    "\n",
    "    repos = search_repositories(keyword)\n",
    "    for repo in repos:\n",
    "        process_repository(repo['full_name'], keywords)\n"
   ]
  }
 ],
 "metadata": {
  "kernelspec": {
   "display_name": "Python 3 (ipykernel)",
   "language": "python",
   "name": "python3"
  },
  "language_info": {
   "codemirror_mode": {
    "name": "ipython",
    "version": 3
   },
   "file_extension": ".py",
   "mimetype": "text/x-python",
   "name": "python",
   "nbconvert_exporter": "python",
   "pygments_lexer": "ipython3",
   "version": "3.12.7"
  }
 },
 "nbformat": 4,
 "nbformat_minor": 5
}
