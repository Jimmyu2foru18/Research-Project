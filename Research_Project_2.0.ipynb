{
 "cells": [
  {
   "cell_type": "code",
   "execution_count": 1,
   "id": "ecfaaff4-6a41-4942-b392-e6cb77ee388a",
   "metadata": {
    "scrolled": true
   },
   "outputs": [
    {
     "name": "stdout",
     "output_type": "stream",
     "text": [
      "Defaulting to user installation because normal site-packages is not writeable\n",
      "Requirement already satisfied: PyGithub in c:\\users\\jimmy\\appdata\\roaming\\python\\python312\\site-packages (2.4.0)\n",
      "Requirement already satisfied: dspy in c:\\users\\jimmy\\appdata\\roaming\\python\\python312\\site-packages (2.5.15)\n",
      "Requirement already satisfied: openai in c:\\users\\jimmy\\appdata\\roaming\\python\\python312\\site-packages (1.51.2)\n",
      "Requirement already satisfied: pynacl>=1.4.0 in c:\\users\\jimmy\\appdata\\roaming\\python\\python312\\site-packages (from PyGithub) (1.5.0)\n",
      "Requirement already satisfied: requests>=2.14.0 in c:\\users\\jimmy\\appdata\\roaming\\python\\python312\\site-packages (from PyGithub) (2.32.3)\n",
      "Requirement already satisfied: pyjwt>=2.4.0 in c:\\users\\jimmy\\appdata\\roaming\\python\\python312\\site-packages (from pyjwt[crypto]>=2.4.0->PyGithub) (2.9.0)\n",
      "Requirement already satisfied: typing-extensions>=4.0.0 in c:\\users\\jimmy\\appdata\\roaming\\python\\python312\\site-packages (from PyGithub) (4.12.2)\n",
      "Requirement already satisfied: urllib3>=1.26.0 in c:\\users\\jimmy\\appdata\\roaming\\python\\python312\\site-packages (from PyGithub) (2.2.3)\n",
      "Requirement already satisfied: Deprecated in c:\\users\\jimmy\\appdata\\roaming\\python\\python312\\site-packages (from PyGithub) (1.2.14)\n",
      "Requirement already satisfied: backoff in c:\\users\\jimmy\\appdata\\roaming\\python\\python312\\site-packages (from dspy) (2.2.1)\n",
      "Requirement already satisfied: datasets in c:\\users\\jimmy\\appdata\\roaming\\python\\python312\\site-packages (from dspy) (3.0.2)\n",
      "Requirement already satisfied: joblib~=1.3 in c:\\users\\jimmy\\appdata\\roaming\\python\\python312\\site-packages (from dspy) (1.4.2)\n",
      "Requirement already satisfied: litellm<=1.49.1 in c:\\users\\jimmy\\appdata\\roaming\\python\\python312\\site-packages (from dspy) (1.49.1)\n",
      "Requirement already satisfied: optuna in c:\\users\\jimmy\\appdata\\roaming\\python\\python312\\site-packages (from dspy) (4.0.0)\n",
      "Requirement already satisfied: pandas in c:\\users\\jimmy\\appdata\\roaming\\python\\python312\\site-packages (from dspy) (2.2.2)\n",
      "Requirement already satisfied: pydantic~=2.0 in c:\\users\\jimmy\\appdata\\roaming\\python\\python312\\site-packages (from dspy) (2.9.2)\n",
      "Requirement already satisfied: regex in c:\\users\\jimmy\\appdata\\roaming\\python\\python312\\site-packages (from dspy) (2024.9.11)\n",
      "Requirement already satisfied: structlog in c:\\users\\jimmy\\appdata\\roaming\\python\\python312\\site-packages (from dspy) (24.4.0)\n",
      "Requirement already satisfied: tqdm in c:\\users\\jimmy\\appdata\\roaming\\python\\python312\\site-packages (from dspy) (4.66.5)\n",
      "Requirement already satisfied: ujson in c:\\users\\jimmy\\appdata\\roaming\\python\\python312\\site-packages (from dspy) (5.10.0)\n",
      "Requirement already satisfied: httpx in c:\\users\\jimmy\\appdata\\roaming\\python\\python312\\site-packages (from dspy) (0.27.2)\n",
      "Requirement already satisfied: magicattr~=0.1.6 in c:\\users\\jimmy\\appdata\\roaming\\python\\python312\\site-packages (from dspy) (0.1.6)\n",
      "Requirement already satisfied: diskcache in c:\\users\\jimmy\\appdata\\roaming\\python\\python312\\site-packages (from dspy) (5.6.3)\n",
      "Requirement already satisfied: anyio<5,>=3.5.0 in c:\\users\\jimmy\\appdata\\roaming\\python\\python312\\site-packages (from openai) (4.4.0)\n",
      "Requirement already satisfied: distro<2,>=1.7.0 in c:\\users\\jimmy\\appdata\\roaming\\python\\python312\\site-packages (from openai) (1.9.0)\n",
      "Requirement already satisfied: jiter<1,>=0.4.0 in c:\\users\\jimmy\\appdata\\roaming\\python\\python312\\site-packages (from openai) (0.6.1)\n",
      "Requirement already satisfied: sniffio in c:\\users\\jimmy\\appdata\\roaming\\python\\python312\\site-packages (from openai) (1.3.1)\n",
      "Requirement already satisfied: idna>=2.8 in c:\\users\\jimmy\\appdata\\roaming\\python\\python312\\site-packages (from anyio<5,>=3.5.0->openai) (3.8)\n",
      "Requirement already satisfied: certifi in c:\\users\\jimmy\\appdata\\roaming\\python\\python312\\site-packages (from httpx->dspy) (2024.8.30)\n",
      "Requirement already satisfied: httpcore==1.* in c:\\users\\jimmy\\appdata\\roaming\\python\\python312\\site-packages (from httpx->dspy) (1.0.5)\n",
      "Requirement already satisfied: h11<0.15,>=0.13 in c:\\users\\jimmy\\appdata\\roaming\\python\\python312\\site-packages (from httpcore==1.*->httpx->dspy) (0.14.0)\n",
      "Requirement already satisfied: aiohttp in c:\\users\\jimmy\\appdata\\roaming\\python\\python312\\site-packages (from litellm<=1.49.1->dspy) (3.10.10)\n",
      "Requirement already satisfied: click in c:\\users\\jimmy\\appdata\\roaming\\python\\python312\\site-packages (from litellm<=1.49.1->dspy) (8.1.7)\n",
      "Requirement already satisfied: importlib-metadata>=6.8.0 in c:\\users\\jimmy\\appdata\\roaming\\python\\python312\\site-packages (from litellm<=1.49.1->dspy) (8.5.0)\n",
      "Requirement already satisfied: jinja2<4.0.0,>=3.1.2 in c:\\users\\jimmy\\appdata\\roaming\\python\\python312\\site-packages (from litellm<=1.49.1->dspy) (3.1.4)\n",
      "Requirement already satisfied: jsonschema<5.0.0,>=4.22.0 in c:\\users\\jimmy\\appdata\\roaming\\python\\python312\\site-packages (from litellm<=1.49.1->dspy) (4.23.0)\n",
      "Requirement already satisfied: python-dotenv>=0.2.0 in c:\\users\\jimmy\\appdata\\roaming\\python\\python312\\site-packages (from litellm<=1.49.1->dspy) (1.0.1)\n",
      "Requirement already satisfied: tiktoken>=0.7.0 in c:\\users\\jimmy\\appdata\\roaming\\python\\python312\\site-packages (from litellm<=1.49.1->dspy) (0.8.0)\n",
      "Requirement already satisfied: tokenizers in c:\\users\\jimmy\\appdata\\roaming\\python\\python312\\site-packages (from litellm<=1.49.1->dspy) (0.20.1)\n",
      "Requirement already satisfied: annotated-types>=0.6.0 in c:\\users\\jimmy\\appdata\\roaming\\python\\python312\\site-packages (from pydantic~=2.0->dspy) (0.7.0)\n",
      "Requirement already satisfied: pydantic-core==2.23.4 in c:\\users\\jimmy\\appdata\\roaming\\python\\python312\\site-packages (from pydantic~=2.0->dspy) (2.23.4)\n",
      "Requirement already satisfied: cryptography>=3.4.0 in c:\\users\\jimmy\\appdata\\roaming\\python\\python312\\site-packages (from pyjwt[crypto]>=2.4.0->PyGithub) (43.0.1)\n",
      "Requirement already satisfied: cffi>=1.4.1 in c:\\users\\jimmy\\appdata\\roaming\\python\\python312\\site-packages (from pynacl>=1.4.0->PyGithub) (1.17.1)\n",
      "Requirement already satisfied: charset-normalizer<4,>=2 in c:\\users\\jimmy\\appdata\\roaming\\python\\python312\\site-packages (from requests>=2.14.0->PyGithub) (3.3.2)\n",
      "Requirement already satisfied: colorama in c:\\users\\jimmy\\appdata\\roaming\\python\\python312\\site-packages (from tqdm->dspy) (0.4.6)\n",
      "Requirement already satisfied: filelock in c:\\users\\jimmy\\appdata\\roaming\\python\\python312\\site-packages (from datasets->dspy) (3.16.1)\n",
      "Requirement already satisfied: numpy>=1.17 in c:\\program files\\python312\\lib\\site-packages (from datasets->dspy) (1.26.4)\n",
      "Requirement already satisfied: pyarrow>=15.0.0 in c:\\users\\jimmy\\appdata\\roaming\\python\\python312\\site-packages (from datasets->dspy) (17.0.0)\n",
      "Requirement already satisfied: dill<0.3.9,>=0.3.0 in c:\\users\\jimmy\\appdata\\roaming\\python\\python312\\site-packages (from datasets->dspy) (0.3.8)\n",
      "Requirement already satisfied: xxhash in c:\\users\\jimmy\\appdata\\roaming\\python\\python312\\site-packages (from datasets->dspy) (3.5.0)\n",
      "Requirement already satisfied: multiprocess<0.70.17 in c:\\users\\jimmy\\appdata\\roaming\\python\\python312\\site-packages (from datasets->dspy) (0.70.16)\n",
      "Requirement already satisfied: fsspec<=2024.9.0,>=2023.1.0 in c:\\users\\jimmy\\appdata\\roaming\\python\\python312\\site-packages (from fsspec[http]<=2024.9.0,>=2023.1.0->datasets->dspy) (2024.9.0)\n",
      "Requirement already satisfied: huggingface-hub>=0.23.0 in c:\\users\\jimmy\\appdata\\roaming\\python\\python312\\site-packages (from datasets->dspy) (0.25.2)\n",
      "Requirement already satisfied: packaging in c:\\users\\jimmy\\appdata\\roaming\\python\\python312\\site-packages (from datasets->dspy) (24.1)\n",
      "Requirement already satisfied: pyyaml>=5.1 in c:\\users\\jimmy\\appdata\\roaming\\python\\python312\\site-packages (from datasets->dspy) (6.0.2)\n",
      "Requirement already satisfied: wrapt<2,>=1.10 in c:\\users\\jimmy\\appdata\\roaming\\python\\python312\\site-packages (from Deprecated->PyGithub) (1.16.0)\n",
      "Requirement already satisfied: alembic>=1.5.0 in c:\\users\\jimmy\\appdata\\roaming\\python\\python312\\site-packages (from optuna->dspy) (1.13.3)\n",
      "Requirement already satisfied: colorlog in c:\\users\\jimmy\\appdata\\roaming\\python\\python312\\site-packages (from optuna->dspy) (6.8.2)\n",
      "Requirement already satisfied: sqlalchemy>=1.3.0 in c:\\users\\jimmy\\appdata\\roaming\\python\\python312\\site-packages (from optuna->dspy) (2.0.36)\n",
      "Requirement already satisfied: python-dateutil>=2.8.2 in c:\\users\\jimmy\\appdata\\roaming\\python\\python312\\site-packages (from pandas->dspy) (2.9.0.post0)\n",
      "Requirement already satisfied: pytz>=2020.1 in c:\\users\\jimmy\\appdata\\roaming\\python\\python312\\site-packages (from pandas->dspy) (2024.2)\n",
      "Requirement already satisfied: tzdata>=2022.7 in c:\\users\\jimmy\\appdata\\roaming\\python\\python312\\site-packages (from pandas->dspy) (2024.1)\n",
      "Requirement already satisfied: Mako in c:\\users\\jimmy\\appdata\\roaming\\python\\python312\\site-packages (from alembic>=1.5.0->optuna->dspy) (1.3.6)\n",
      "Requirement already satisfied: pycparser in c:\\users\\jimmy\\appdata\\roaming\\python\\python312\\site-packages (from cffi>=1.4.1->pynacl>=1.4.0->PyGithub) (2.22)\n",
      "Requirement already satisfied: aiohappyeyeballs>=2.3.0 in c:\\users\\jimmy\\appdata\\roaming\\python\\python312\\site-packages (from aiohttp->litellm<=1.49.1->dspy) (2.4.3)\n",
      "Requirement already satisfied: aiosignal>=1.1.2 in c:\\users\\jimmy\\appdata\\roaming\\python\\python312\\site-packages (from aiohttp->litellm<=1.49.1->dspy) (1.3.1)\n",
      "Requirement already satisfied: attrs>=17.3.0 in c:\\users\\jimmy\\appdata\\roaming\\python\\python312\\site-packages (from aiohttp->litellm<=1.49.1->dspy) (24.2.0)\n",
      "Requirement already satisfied: frozenlist>=1.1.1 in c:\\users\\jimmy\\appdata\\roaming\\python\\python312\\site-packages (from aiohttp->litellm<=1.49.1->dspy) (1.4.1)\n",
      "Requirement already satisfied: multidict<7.0,>=4.5 in c:\\users\\jimmy\\appdata\\roaming\\python\\python312\\site-packages (from aiohttp->litellm<=1.49.1->dspy) (6.1.0)\n",
      "Requirement already satisfied: yarl<2.0,>=1.12.0 in c:\\users\\jimmy\\appdata\\roaming\\python\\python312\\site-packages (from aiohttp->litellm<=1.49.1->dspy) (1.16.0)\n",
      "Requirement already satisfied: zipp>=3.20 in c:\\users\\jimmy\\appdata\\roaming\\python\\python312\\site-packages (from importlib-metadata>=6.8.0->litellm<=1.49.1->dspy) (3.20.2)\n",
      "Requirement already satisfied: MarkupSafe>=2.0 in c:\\users\\jimmy\\appdata\\roaming\\python\\python312\\site-packages (from jinja2<4.0.0,>=3.1.2->litellm<=1.49.1->dspy) (2.1.5)\n",
      "Requirement already satisfied: jsonschema-specifications>=2023.03.6 in c:\\users\\jimmy\\appdata\\roaming\\python\\python312\\site-packages (from jsonschema<5.0.0,>=4.22.0->litellm<=1.49.1->dspy) (2023.12.1)\n",
      "Requirement already satisfied: referencing>=0.28.4 in c:\\users\\jimmy\\appdata\\roaming\\python\\python312\\site-packages (from jsonschema<5.0.0,>=4.22.0->litellm<=1.49.1->dspy) (0.35.1)\n",
      "Requirement already satisfied: rpds-py>=0.7.1 in c:\\users\\jimmy\\appdata\\roaming\\python\\python312\\site-packages (from jsonschema<5.0.0,>=4.22.0->litellm<=1.49.1->dspy) (0.20.0)\n",
      "Requirement already satisfied: six>=1.5 in c:\\users\\jimmy\\appdata\\roaming\\python\\python312\\site-packages (from python-dateutil>=2.8.2->pandas->dspy) (1.16.0)\n",
      "Requirement already satisfied: greenlet!=0.4.17 in c:\\users\\jimmy\\appdata\\roaming\\python\\python312\\site-packages (from sqlalchemy>=1.3.0->optuna->dspy) (3.1.1)\n",
      "Requirement already satisfied: propcache>=0.2.0 in c:\\users\\jimmy\\appdata\\roaming\\python\\python312\\site-packages (from yarl<2.0,>=1.12.0->aiohttp->litellm<=1.49.1->dspy) (0.2.0)\n"
     ]
    }
   ],
   "source": [
    "!pip install PyGithub dspy openai"
   ]
  },
  {
   "cell_type": "code",
   "execution_count": 12,
   "id": "ac4c86aa-d4e2-42c4-893c-342274b4c255",
   "metadata": {},
   "outputs": [],
   "source": [
    "import openai\n",
    "import os\n",
    "import requests\n",
    "import shutil \n",
    "from github import Github\n",
    "import dspy"
   ]
  },
  {
   "cell_type": "code",
   "execution_count": 3,
   "id": "76ec6a3c-5b3d-4406-a82a-a72718134075",
   "metadata": {},
   "outputs": [],
   "source": [
    "github_token = os.getenv('GITHUB_TOKEN')  \n",
    "openai.api_key = os.getenv('OPENAI_API_KEY')"
   ]
  },
  {
   "cell_type": "code",
   "execution_count": 4,
   "id": "33bb5eb9-7268-4abb-9696-2dfe3f3bbd20",
   "metadata": {},
   "outputs": [
    {
     "name": "stdout",
     "output_type": "stream",
     "text": [
      "Directory already exists: C:\\Users\\jimmy\\Desktop\\repositories/\n"
     ]
    }
   ],
   "source": [
    "desktop_path = os.path.join(os.path.expanduser(\"~\"), \"Desktop\")\n",
    "base_directory = os.path.join(desktop_path, \"repositories/\")\n",
    "\n",
    "if not os.path.exists(base_directory):\n",
    "    os.makedirs(base_directory)\n",
    "    print(f\"Created directory: {base_directory}\")\n",
    "else:\n",
    "    print(f\"Directory already exists: {base_directory}\")"
   ]
  },
  {
   "cell_type": "code",
   "execution_count": 5,
   "id": "9a274f11-cff1-46fd-ad5d-61642d8ac0bc",
   "metadata": {},
   "outputs": [],
   "source": [
    "def summarize_content(content):\n",
    "    \"\"\"Summarize the content of a file using OpenAI API.\"\"\"\n",
    "    try:\n",
    "        max_length = 1000  # AI token limits\n",
    "        if len(content) > max_length:\n",
    "            content = content[:max_length]\n",
    "\n",
    "        response = openai.Completion.create(\n",
    "            engine=\"gpt-4.0-mini\",\n",
    "            prompt=f\"Summarize the following:\\n{content}\",\n",
    "            max_tokens=150\n",
    "        )\n",
    "        return response.choices[0].text.strip()\n",
    "    except Exception as e:\n",
    "        print(f\"Error summarizing content: {e}\")\n",
    "        return None"
   ]
  },
  {
   "cell_type": "code",
   "execution_count": 6,
   "id": "155beea0-d54a-421f-b52a-e1dc8f3894d2",
   "metadata": {},
   "outputs": [],
   "source": [
    "def access_github_repo(repo_url):\n",
    "    \"\"\"Access GitHub repository and download its content\"\"\"\n",
    "    g = Github(github_token)\n",
    "    repo_name = repo_url.split('/')[-1]\n",
    "\n",
    "    repo = g.get_repo(repo_url.replace(\"https://github.com/\", \"\"))\n",
    "\n",
    "    repo_path = os.path.join(base_directory, repo_name)\n",
    "    if not os.path.exists(repo_path):\n",
    "        os.makedirs(repo_path)\n",
    "\n",
    "    for content_file in repo.get_contents(\"\"):\n",
    "        file_path = os.path.join(repo_path, content_file.name)\n",
    "        if content_file.type == \"file\":\n",
    "            with open(file_path, \"wb\") as f:\n",
    "                f.write(requests.get(content_file.download_url).content)\n",
    "        elif content_file.type == \"dir\":\n",
    "            os.makedirs(file_path)\n",
    "    return repo_path"
   ]
  },
  {
   "cell_type": "code",
   "execution_count": 7,
   "id": "c9272f3f-d9bf-4335-a447-2c73250449a7",
   "metadata": {},
   "outputs": [],
   "source": [
    "def find_missing_files(repo1_path, repo2_path):\n",
    "    \"\"\"Find missing files between 2 repos\"\"\"\n",
    "    missing_files = []\n",
    "    repo1_files = set(os.listdir(repo1_path))\n",
    "    repo2_files = set(os.listdir(repo2_path))\n",
    "    for file in repo1_files:\n",
    "        if file not in repo2_files:\n",
    "            missing_files.append(file)\n",
    "    return missing_files"
   ]
  },
  {
   "cell_type": "code",
   "execution_count": 8,
   "id": "1510b8f9-5053-4994-8b92-5125746690af",
   "metadata": {},
   "outputs": [],
   "source": [
    "def unpack_and_install(repo_path):\n",
    "    \"\"\"unpack and decompress any files and execute the installation\"\"\"\n",
    "    for root, dirs, files in os.walk(repo_path):\n",
    "        for file in files:\n",
    "            if file.endswith(\".tar.gz\") or file.endswith(\".zip\"):\n",
    "                shutil.unpack_archive(os.path.join(root, file), extract_dir=root)\n",
    "                os.system(f\"ansible-playbook {os.path.join(root, 'install.yml')}\")"
   ]
  },
  {
   "cell_type": "code",
   "execution_count": 9,
   "id": "c6c0884f-1e9f-459f-bb00-d36443995bb3",
   "metadata": {},
   "outputs": [],
   "source": [
    "def setup_docker_vm():\n",
    "    \"\"\"Setup Docker container or vm using dspy\"\"\"\n",
    "    vm = dspy.create_virtual_machine(\"ubuntu\", \"my_vm\")\n",
    "    dspy.run_command(vm, \"sudo apt update && sudo apt install -y some_package\")\n",
    "\n",
    "    os.system(\"docker pull ubuntu\")\n",
    "    os.system(\"docker run -d --name my_container ubuntu\")"
   ]
  },
  {
   "cell_type": "code",
   "execution_count": 11,
   "id": "be329cec-0799-44f7-aa74-ccd6eb817999",
   "metadata": {},
   "outputs": [],
   "source": [
    "def run_project(repo_url1, repo_url2):\n",
    "    \"\"\"Run the full project\"\"\"\n",
    "    repo1_path = access_github_repo(repo_url1)\n",
    "    repo2_path = access_github_repo(repo_url2)\n",
    "    \n",
    "    with open(os.path.join(repo1_path, \"README.md\"), \"r\") as f:\n",
    "        content = f.read()\n",
    "        summary = summarize_content(content)\n",
    "        print(\"Repository 1 README Summary:\", summary)\n",
    "    \n",
    "    with open(os.path.join(repo2_path, \"README.md\"), \"r\") as f:\n",
    "        content = f.read()\n",
    "        summary = summarize_content(content)\n",
    "        print(\"Repository 2 README Summary:\", summary)\n",
    "\n",
    "    missing_files = find_missing_files(repo1_path, repo2_path)\n",
    "    if missing_files:\n",
    "        print(\"Missing files:\", missing_files)\n",
    "    else:\n",
    "        print(\"No missing files found.\")\n",
    "\n",
    "    unpack_and_install(repo1_path)\n",
    "    setup_docker_vm()"
   ]
  },
  {
   "cell_type": "code",
   "execution_count": null,
   "id": "0dc89e3b-d6cf-4903-ad07-76d226b04e65",
   "metadata": {},
   "outputs": [],
   "source": []
  }
 ],
 "metadata": {
  "kernelspec": {
   "display_name": "Python 3 (ipykernel)",
   "language": "python",
   "name": "python3"
  },
  "language_info": {
   "codemirror_mode": {
    "name": "ipython",
    "version": 3
   },
   "file_extension": ".py",
   "mimetype": "text/x-python",
   "name": "python",
   "nbconvert_exporter": "python",
   "pygments_lexer": "ipython3",
   "version": "3.12.7"
  }
 },
 "nbformat": 4,
 "nbformat_minor": 5
}
