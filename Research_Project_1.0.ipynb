{
 "cells": [
  {
   "cell_type": "code",
   "execution_count": 1,
   "id": "b0a52e6c-7495-463c-ad70-daada486a201",
   "metadata": {
    "scrolled": true
   },
   "outputs": [
    {
     "name": "stdout",
     "output_type": "stream",
     "text": [
      "Defaulting to user installation because normal site-packages is not writeable\n",
      "Requirement already satisfied: PyGithub in c:\\users\\jimmy\\appdata\\roaming\\python\\python312\\site-packages (2.4.0)\n",
      "Requirement already satisfied: dspy in c:\\users\\jimmy\\appdata\\roaming\\python\\python312\\site-packages (2.5.15)\n",
      "Requirement already satisfied: openai in c:\\users\\jimmy\\appdata\\roaming\\python\\python312\\site-packages (1.51.2)\n",
      "Requirement already satisfied: pynacl>=1.4.0 in c:\\users\\jimmy\\appdata\\roaming\\python\\python312\\site-packages (from PyGithub) (1.5.0)\n",
      "Requirement already satisfied: requests>=2.14.0 in c:\\users\\jimmy\\appdata\\roaming\\python\\python312\\site-packages (from PyGithub) (2.32.3)\n",
      "Requirement already satisfied: pyjwt>=2.4.0 in c:\\users\\jimmy\\appdata\\roaming\\python\\python312\\site-packages (from pyjwt[crypto]>=2.4.0->PyGithub) (2.9.0)\n",
      "Requirement already satisfied: typing-extensions>=4.0.0 in c:\\users\\jimmy\\appdata\\roaming\\python\\python312\\site-packages (from PyGithub) (4.12.2)\n",
      "Requirement already satisfied: urllib3>=1.26.0 in c:\\users\\jimmy\\appdata\\roaming\\python\\python312\\site-packages (from PyGithub) (2.2.3)\n",
      "Requirement already satisfied: Deprecated in c:\\users\\jimmy\\appdata\\roaming\\python\\python312\\site-packages (from PyGithub) (1.2.14)\n",
      "Requirement already satisfied: backoff in c:\\users\\jimmy\\appdata\\roaming\\python\\python312\\site-packages (from dspy) (2.2.1)\n",
      "Requirement already satisfied: datasets in c:\\users\\jimmy\\appdata\\roaming\\python\\python312\\site-packages (from dspy) (3.0.2)\n",
      "Requirement already satisfied: joblib~=1.3 in c:\\users\\jimmy\\appdata\\roaming\\python\\python312\\site-packages (from dspy) (1.4.2)\n",
      "Requirement already satisfied: litellm<=1.49.1 in c:\\users\\jimmy\\appdata\\roaming\\python\\python312\\site-packages (from dspy) (1.49.1)\n",
      "Requirement already satisfied: optuna in c:\\users\\jimmy\\appdata\\roaming\\python\\python312\\site-packages (from dspy) (4.0.0)\n",
      "Requirement already satisfied: pandas in c:\\users\\jimmy\\appdata\\roaming\\python\\python312\\site-packages (from dspy) (2.2.2)\n",
      "Requirement already satisfied: pydantic~=2.0 in c:\\users\\jimmy\\appdata\\roaming\\python\\python312\\site-packages (from dspy) (2.9.2)\n",
      "Requirement already satisfied: regex in c:\\users\\jimmy\\appdata\\roaming\\python\\python312\\site-packages (from dspy) (2024.9.11)\n",
      "Requirement already satisfied: structlog in c:\\users\\jimmy\\appdata\\roaming\\python\\python312\\site-packages (from dspy) (24.4.0)\n",
      "Requirement already satisfied: tqdm in c:\\users\\jimmy\\appdata\\roaming\\python\\python312\\site-packages (from dspy) (4.66.5)\n",
      "Requirement already satisfied: ujson in c:\\users\\jimmy\\appdata\\roaming\\python\\python312\\site-packages (from dspy) (5.10.0)\n",
      "Requirement already satisfied: httpx in c:\\users\\jimmy\\appdata\\roaming\\python\\python312\\site-packages (from dspy) (0.27.2)\n",
      "Requirement already satisfied: magicattr~=0.1.6 in c:\\users\\jimmy\\appdata\\roaming\\python\\python312\\site-packages (from dspy) (0.1.6)\n",
      "Requirement already satisfied: diskcache in c:\\users\\jimmy\\appdata\\roaming\\python\\python312\\site-packages (from dspy) (5.6.3)\n",
      "Requirement already satisfied: anyio<5,>=3.5.0 in c:\\users\\jimmy\\appdata\\roaming\\python\\python312\\site-packages (from openai) (4.4.0)\n",
      "Requirement already satisfied: distro<2,>=1.7.0 in c:\\users\\jimmy\\appdata\\roaming\\python\\python312\\site-packages (from openai) (1.9.0)\n",
      "Requirement already satisfied: jiter<1,>=0.4.0 in c:\\users\\jimmy\\appdata\\roaming\\python\\python312\\site-packages (from openai) (0.6.1)\n",
      "Requirement already satisfied: sniffio in c:\\users\\jimmy\\appdata\\roaming\\python\\python312\\site-packages (from openai) (1.3.1)\n",
      "Requirement already satisfied: idna>=2.8 in c:\\users\\jimmy\\appdata\\roaming\\python\\python312\\site-packages (from anyio<5,>=3.5.0->openai) (3.8)\n",
      "Requirement already satisfied: certifi in c:\\users\\jimmy\\appdata\\roaming\\python\\python312\\site-packages (from httpx->dspy) (2024.8.30)\n",
      "Requirement already satisfied: httpcore==1.* in c:\\users\\jimmy\\appdata\\roaming\\python\\python312\\site-packages (from httpx->dspy) (1.0.5)\n",
      "Requirement already satisfied: h11<0.15,>=0.13 in c:\\users\\jimmy\\appdata\\roaming\\python\\python312\\site-packages (from httpcore==1.*->httpx->dspy) (0.14.0)\n",
      "Requirement already satisfied: aiohttp in c:\\users\\jimmy\\appdata\\roaming\\python\\python312\\site-packages (from litellm<=1.49.1->dspy) (3.10.10)\n",
      "Requirement already satisfied: click in c:\\users\\jimmy\\appdata\\roaming\\python\\python312\\site-packages (from litellm<=1.49.1->dspy) (8.1.7)\n",
      "Requirement already satisfied: importlib-metadata>=6.8.0 in c:\\users\\jimmy\\appdata\\roaming\\python\\python312\\site-packages (from litellm<=1.49.1->dspy) (8.5.0)\n",
      "Requirement already satisfied: jinja2<4.0.0,>=3.1.2 in c:\\users\\jimmy\\appdata\\roaming\\python\\python312\\site-packages (from litellm<=1.49.1->dspy) (3.1.4)\n",
      "Requirement already satisfied: jsonschema<5.0.0,>=4.22.0 in c:\\users\\jimmy\\appdata\\roaming\\python\\python312\\site-packages (from litellm<=1.49.1->dspy) (4.23.0)\n",
      "Requirement already satisfied: python-dotenv>=0.2.0 in c:\\users\\jimmy\\appdata\\roaming\\python\\python312\\site-packages (from litellm<=1.49.1->dspy) (1.0.1)\n",
      "Requirement already satisfied: tiktoken>=0.7.0 in c:\\users\\jimmy\\appdata\\roaming\\python\\python312\\site-packages (from litellm<=1.49.1->dspy) (0.8.0)\n",
      "Requirement already satisfied: tokenizers in c:\\users\\jimmy\\appdata\\roaming\\python\\python312\\site-packages (from litellm<=1.49.1->dspy) (0.20.1)\n",
      "Requirement already satisfied: annotated-types>=0.6.0 in c:\\users\\jimmy\\appdata\\roaming\\python\\python312\\site-packages (from pydantic~=2.0->dspy) (0.7.0)\n",
      "Requirement already satisfied: pydantic-core==2.23.4 in c:\\users\\jimmy\\appdata\\roaming\\python\\python312\\site-packages (from pydantic~=2.0->dspy) (2.23.4)\n",
      "Requirement already satisfied: cryptography>=3.4.0 in c:\\users\\jimmy\\appdata\\roaming\\python\\python312\\site-packages (from pyjwt[crypto]>=2.4.0->PyGithub) (43.0.1)\n",
      "Requirement already satisfied: cffi>=1.4.1 in c:\\users\\jimmy\\appdata\\roaming\\python\\python312\\site-packages (from pynacl>=1.4.0->PyGithub) (1.17.1)\n",
      "Requirement already satisfied: charset-normalizer<4,>=2 in c:\\users\\jimmy\\appdata\\roaming\\python\\python312\\site-packages (from requests>=2.14.0->PyGithub) (3.3.2)\n",
      "Requirement already satisfied: colorama in c:\\users\\jimmy\\appdata\\roaming\\python\\python312\\site-packages (from tqdm->dspy) (0.4.6)\n",
      "Requirement already satisfied: filelock in c:\\users\\jimmy\\appdata\\roaming\\python\\python312\\site-packages (from datasets->dspy) (3.16.1)\n",
      "Requirement already satisfied: numpy>=1.17 in c:\\program files\\python312\\lib\\site-packages (from datasets->dspy) (1.26.4)\n",
      "Requirement already satisfied: pyarrow>=15.0.0 in c:\\users\\jimmy\\appdata\\roaming\\python\\python312\\site-packages (from datasets->dspy) (17.0.0)\n",
      "Requirement already satisfied: dill<0.3.9,>=0.3.0 in c:\\users\\jimmy\\appdata\\roaming\\python\\python312\\site-packages (from datasets->dspy) (0.3.8)\n",
      "Requirement already satisfied: xxhash in c:\\users\\jimmy\\appdata\\roaming\\python\\python312\\site-packages (from datasets->dspy) (3.5.0)\n",
      "Requirement already satisfied: multiprocess<0.70.17 in c:\\users\\jimmy\\appdata\\roaming\\python\\python312\\site-packages (from datasets->dspy) (0.70.16)\n",
      "Requirement already satisfied: fsspec<=2024.9.0,>=2023.1.0 in c:\\users\\jimmy\\appdata\\roaming\\python\\python312\\site-packages (from fsspec[http]<=2024.9.0,>=2023.1.0->datasets->dspy) (2024.9.0)\n",
      "Requirement already satisfied: huggingface-hub>=0.23.0 in c:\\users\\jimmy\\appdata\\roaming\\python\\python312\\site-packages (from datasets->dspy) (0.25.2)\n",
      "Requirement already satisfied: packaging in c:\\users\\jimmy\\appdata\\roaming\\python\\python312\\site-packages (from datasets->dspy) (24.1)\n",
      "Requirement already satisfied: pyyaml>=5.1 in c:\\users\\jimmy\\appdata\\roaming\\python\\python312\\site-packages (from datasets->dspy) (6.0.2)\n",
      "Requirement already satisfied: wrapt<2,>=1.10 in c:\\users\\jimmy\\appdata\\roaming\\python\\python312\\site-packages (from Deprecated->PyGithub) (1.16.0)\n",
      "Requirement already satisfied: alembic>=1.5.0 in c:\\users\\jimmy\\appdata\\roaming\\python\\python312\\site-packages (from optuna->dspy) (1.13.3)\n",
      "Requirement already satisfied: colorlog in c:\\users\\jimmy\\appdata\\roaming\\python\\python312\\site-packages (from optuna->dspy) (6.8.2)\n",
      "Requirement already satisfied: sqlalchemy>=1.3.0 in c:\\users\\jimmy\\appdata\\roaming\\python\\python312\\site-packages (from optuna->dspy) (2.0.36)\n",
      "Requirement already satisfied: python-dateutil>=2.8.2 in c:\\users\\jimmy\\appdata\\roaming\\python\\python312\\site-packages (from pandas->dspy) (2.9.0.post0)\n",
      "Requirement already satisfied: pytz>=2020.1 in c:\\users\\jimmy\\appdata\\roaming\\python\\python312\\site-packages (from pandas->dspy) (2024.2)\n",
      "Requirement already satisfied: tzdata>=2022.7 in c:\\users\\jimmy\\appdata\\roaming\\python\\python312\\site-packages (from pandas->dspy) (2024.1)\n",
      "Requirement already satisfied: Mako in c:\\users\\jimmy\\appdata\\roaming\\python\\python312\\site-packages (from alembic>=1.5.0->optuna->dspy) (1.3.6)\n",
      "Requirement already satisfied: pycparser in c:\\users\\jimmy\\appdata\\roaming\\python\\python312\\site-packages (from cffi>=1.4.1->pynacl>=1.4.0->PyGithub) (2.22)\n",
      "Requirement already satisfied: aiohappyeyeballs>=2.3.0 in c:\\users\\jimmy\\appdata\\roaming\\python\\python312\\site-packages (from aiohttp->litellm<=1.49.1->dspy) (2.4.3)\n",
      "Requirement already satisfied: aiosignal>=1.1.2 in c:\\users\\jimmy\\appdata\\roaming\\python\\python312\\site-packages (from aiohttp->litellm<=1.49.1->dspy) (1.3.1)\n",
      "Requirement already satisfied: attrs>=17.3.0 in c:\\users\\jimmy\\appdata\\roaming\\python\\python312\\site-packages (from aiohttp->litellm<=1.49.1->dspy) (24.2.0)\n",
      "Requirement already satisfied: frozenlist>=1.1.1 in c:\\users\\jimmy\\appdata\\roaming\\python\\python312\\site-packages (from aiohttp->litellm<=1.49.1->dspy) (1.4.1)\n",
      "Requirement already satisfied: multidict<7.0,>=4.5 in c:\\users\\jimmy\\appdata\\roaming\\python\\python312\\site-packages (from aiohttp->litellm<=1.49.1->dspy) (6.1.0)\n",
      "Requirement already satisfied: yarl<2.0,>=1.12.0 in c:\\users\\jimmy\\appdata\\roaming\\python\\python312\\site-packages (from aiohttp->litellm<=1.49.1->dspy) (1.16.0)\n",
      "Requirement already satisfied: zipp>=3.20 in c:\\users\\jimmy\\appdata\\roaming\\python\\python312\\site-packages (from importlib-metadata>=6.8.0->litellm<=1.49.1->dspy) (3.20.2)\n",
      "Requirement already satisfied: MarkupSafe>=2.0 in c:\\users\\jimmy\\appdata\\roaming\\python\\python312\\site-packages (from jinja2<4.0.0,>=3.1.2->litellm<=1.49.1->dspy) (2.1.5)\n",
      "Requirement already satisfied: jsonschema-specifications>=2023.03.6 in c:\\users\\jimmy\\appdata\\roaming\\python\\python312\\site-packages (from jsonschema<5.0.0,>=4.22.0->litellm<=1.49.1->dspy) (2023.12.1)\n",
      "Requirement already satisfied: referencing>=0.28.4 in c:\\users\\jimmy\\appdata\\roaming\\python\\python312\\site-packages (from jsonschema<5.0.0,>=4.22.0->litellm<=1.49.1->dspy) (0.35.1)\n",
      "Requirement already satisfied: rpds-py>=0.7.1 in c:\\users\\jimmy\\appdata\\roaming\\python\\python312\\site-packages (from jsonschema<5.0.0,>=4.22.0->litellm<=1.49.1->dspy) (0.20.0)\n",
      "Requirement already satisfied: six>=1.5 in c:\\users\\jimmy\\appdata\\roaming\\python\\python312\\site-packages (from python-dateutil>=2.8.2->pandas->dspy) (1.16.0)\n",
      "Requirement already satisfied: greenlet!=0.4.17 in c:\\users\\jimmy\\appdata\\roaming\\python\\python312\\site-packages (from sqlalchemy>=1.3.0->optuna->dspy) (3.1.1)\n",
      "Requirement already satisfied: propcache>=0.2.0 in c:\\users\\jimmy\\appdata\\roaming\\python\\python312\\site-packages (from yarl<2.0,>=1.12.0->aiohttp->litellm<=1.49.1->dspy) (0.2.0)\n"
     ]
    }
   ],
   "source": [
    "!pip install PyGithub dspy openai"
   ]
  },
  {
   "cell_type": "code",
   "execution_count": 2,
   "id": "1f868a9d-1058-404a-85d6-90a9c47e47b2",
   "metadata": {},
   "outputs": [],
   "source": [
    "import os\n",
    "import openai\n",
    "from github import Github\n",
    "import dspy"
   ]
  },
  {
   "cell_type": "code",
   "execution_count": 3,
   "id": "892343fa-1d43-4034-bc2b-2035352f3e98",
   "metadata": {},
   "outputs": [],
   "source": [
    "github_token = os.getenv('GITHUB_TOKEN')  \n",
    "openai.api_key = os.getenv('OPENAI_API_KEY')\n",
    "\n",
    "g = Github(github_token)"
   ]
  },
  {
   "cell_type": "code",
   "execution_count": 4,
   "id": "62842838-2d9e-4404-8873-da2b688684ee",
   "metadata": {},
   "outputs": [
    {
     "name": "stdout",
     "output_type": "stream",
     "text": [
      "Directory already exists: C:\\Users\\jimmy\\Desktop\\repositories/\n"
     ]
    }
   ],
   "source": [
    "desktop_path = os.path.join(os.path.expanduser(\"~\"), \"Desktop\") \n",
    "base_directory = os.path.join(desktop_path, \"repositories/\") \n",
    "\n",
    "if not os.path.exists(base_directory):\n",
    "    os.makedirs(base_directory)\n",
    "    print(f\"Created directory: {base_directory}\") \n",
    "else:\n",
    "    print(f\"Directory already exists: {base_directory}\")  "
   ]
  },
  {
   "cell_type": "code",
   "execution_count": 5,
   "id": "650866fb-ffea-49a9-884b-239a248ec0d2",
   "metadata": {},
   "outputs": [],
   "source": [
    "def search_repositories(keyword, language=\"python\", stars=\">=100\", max_repos=10):\n",
    "    \"\"\"Search for GitHub repositories based on a keyword.\"\"\"\n",
    "    query = f\"{keyword} language:{language} stars:{stars}\"\n",
    "    results = []\n",
    "    try:\n",
    "        for repo in g.search_repositories(query=query, sort=\"stars\", order=\"desc\")[:max_repos]:\n",
    "            results.append({\n",
    "                'full_name': repo.full_name,\n",
    "                'html_url': repo.html_url,\n",
    "                'description': repo.description\n",
    "            })\n",
    "        print(f\"Found {len(results)} repositories for keyword '{keyword}'.\")\n",
    "    except Exception as e:\n",
    "        print(f\"GitHub search error: {e}\")\n",
    "    return results"
   ]
  },
  {
   "cell_type": "code",
   "execution_count": 6,
   "id": "fedfedd3-9769-49af-88b3-a0aa5fe93a28",
   "metadata": {},
   "outputs": [],
   "source": [
    "def fetch_repository_details(repo_name):\n",
    "    \"\"\"Fetch the README content of a specified GitHub repository.\"\"\"\n",
    "    try:\n",
    "        repo = g.get_repo(repo_name)\n",
    "        return repo.get_readme().decoded_content.decode(\"utf-8\")\n",
    "    except Exception as e:\n",
    "        print(f\"Error fetching {repo_name}: {e}\")\n",
    "        return None"
   ]
  },
  {
   "cell_type": "code",
   "execution_count": 7,
   "id": "d8eba13c-d298-4282-96fe-b59e60c58cfe",
   "metadata": {},
   "outputs": [],
   "source": [
    "def analyze_readme_keywords(readme_content, keywords):\n",
    "    \"\"\"Analyze the README content for specified keywords.\"\"\"\n",
    "    data = dspy.DataFrame({'content': [readme_content]})\n",
    "    return {keyword: data['content'].str.contains(keyword).sum() for keyword in keywords}"
   ]
  },
  {
   "cell_type": "code",
   "execution_count": 8,
   "id": "6db9d5c3-1718-47b0-a54b-afec6c844d29",
   "metadata": {},
   "outputs": [],
   "source": [
    "def process_repository(repo_full_name, keywords):\n",
    "    \"\"\"Process a repository: fetch README and analyze keywords.\"\"\"\n",
    "    readme_content = fetch_repository_details(repo_full_name)\n",
    "    if readme_content:\n",
    "        keyword_counts = analyze_readme_keywords(readme_content, keywords)\n",
    "        print(f\"Keyword counts for {repo_full_name}: {keyword_counts}\")"
   ]
  },
  {
   "cell_type": "code",
   "execution_count": 9,
   "id": "2cee7584-9f88-4ece-80d8-1133e7415b9d",
   "metadata": {},
   "outputs": [
    {
     "name": "stdin",
     "output_type": "stream",
     "text": [
      "Enter a keyword to search for GitHub repositories:  stable diffusion\n",
      "Enter keywords to analyze in the README (comma-separated):  help\n"
     ]
    },
    {
     "name": "stdout",
     "output_type": "stream",
     "text": [
      "Found 10 repositories for keyword 'stable diffusion'.\n"
     ]
    },
    {
     "ename": "AttributeError",
     "evalue": "module 'dspy' has no attribute 'DataFrame'",
     "output_type": "error",
     "traceback": [
      "\u001b[1;31m---------------------------------------------------------------------------\u001b[0m",
      "\u001b[1;31mAttributeError\u001b[0m                            Traceback (most recent call last)",
      "Cell \u001b[1;32mIn[9], line 8\u001b[0m\n\u001b[0;32m      6\u001b[0m repos \u001b[38;5;241m=\u001b[39m search_repositories(keyword)\n\u001b[0;32m      7\u001b[0m \u001b[38;5;28;01mfor\u001b[39;00m repo \u001b[38;5;129;01min\u001b[39;00m repos:\n\u001b[1;32m----> 8\u001b[0m     \u001b[43mprocess_repository\u001b[49m\u001b[43m(\u001b[49m\u001b[43mrepo\u001b[49m\u001b[43m[\u001b[49m\u001b[38;5;124;43m'\u001b[39;49m\u001b[38;5;124;43mfull_name\u001b[39;49m\u001b[38;5;124;43m'\u001b[39;49m\u001b[43m]\u001b[49m\u001b[43m,\u001b[49m\u001b[43m \u001b[49m\u001b[43mkeywords\u001b[49m\u001b[43m)\u001b[49m\n",
      "Cell \u001b[1;32mIn[8], line 5\u001b[0m, in \u001b[0;36mprocess_repository\u001b[1;34m(repo_full_name, keywords)\u001b[0m\n\u001b[0;32m      3\u001b[0m readme_content \u001b[38;5;241m=\u001b[39m fetch_repository_details(repo_full_name)\n\u001b[0;32m      4\u001b[0m \u001b[38;5;28;01mif\u001b[39;00m readme_content:\n\u001b[1;32m----> 5\u001b[0m     keyword_counts \u001b[38;5;241m=\u001b[39m \u001b[43manalyze_readme_keywords\u001b[49m\u001b[43m(\u001b[49m\u001b[43mreadme_content\u001b[49m\u001b[43m,\u001b[49m\u001b[43m \u001b[49m\u001b[43mkeywords\u001b[49m\u001b[43m)\u001b[49m\n\u001b[0;32m      6\u001b[0m     \u001b[38;5;28mprint\u001b[39m(\u001b[38;5;124mf\u001b[39m\u001b[38;5;124m\"\u001b[39m\u001b[38;5;124mKeyword counts for \u001b[39m\u001b[38;5;132;01m{\u001b[39;00mrepo_full_name\u001b[38;5;132;01m}\u001b[39;00m\u001b[38;5;124m: \u001b[39m\u001b[38;5;132;01m{\u001b[39;00mkeyword_counts\u001b[38;5;132;01m}\u001b[39;00m\u001b[38;5;124m\"\u001b[39m)\n",
      "Cell \u001b[1;32mIn[7], line 3\u001b[0m, in \u001b[0;36manalyze_readme_keywords\u001b[1;34m(readme_content, keywords)\u001b[0m\n\u001b[0;32m      1\u001b[0m \u001b[38;5;28;01mdef\u001b[39;00m \u001b[38;5;21manalyze_readme_keywords\u001b[39m(readme_content, keywords):\n\u001b[0;32m      2\u001b[0m \u001b[38;5;250m    \u001b[39m\u001b[38;5;124;03m\"\"\"Analyze the README content for specified keywords.\"\"\"\u001b[39;00m\n\u001b[1;32m----> 3\u001b[0m     data \u001b[38;5;241m=\u001b[39m \u001b[43mdspy\u001b[49m\u001b[38;5;241;43m.\u001b[39;49m\u001b[43mDataFrame\u001b[49m({\u001b[38;5;124m'\u001b[39m\u001b[38;5;124mcontent\u001b[39m\u001b[38;5;124m'\u001b[39m: [readme_content]})\n\u001b[0;32m      4\u001b[0m     \u001b[38;5;28;01mreturn\u001b[39;00m {keyword: data[\u001b[38;5;124m'\u001b[39m\u001b[38;5;124mcontent\u001b[39m\u001b[38;5;124m'\u001b[39m]\u001b[38;5;241m.\u001b[39mstr\u001b[38;5;241m.\u001b[39mcontains(keyword)\u001b[38;5;241m.\u001b[39msum() \u001b[38;5;28;01mfor\u001b[39;00m keyword \u001b[38;5;129;01min\u001b[39;00m keywords}\n",
      "\u001b[1;31mAttributeError\u001b[0m: module 'dspy' has no attribute 'DataFrame'"
     ]
    }
   ],
   "source": [
    "if __name__ == \"__main__\":\n",
    "    keyword = input(\"Enter a keyword to search for GitHub repositories: \")\n",
    "    keywords = input(\"Enter keywords to analyze in the README (comma-separated): \").split(',')\n",
    "    keywords = [k.strip() for k in keywords]\n",
    "    \n",
    "    repos = search_repositories(keyword)\n",
    "    for repo in repos:\n",
    "        process_repository(repo['full_name'], keywords)\n"
   ]
  },
  {
   "cell_type": "code",
   "execution_count": null,
   "id": "8e4582eb-6ea0-4d96-9210-0d1bfbdb744d",
   "metadata": {},
   "outputs": [],
   "source": [
    "if __name__ == \"__main__\":\n",
    "    keyword = input(\"Enter a keyword to search for GitHub repositories: \")\n",
    "    keywords = input(\"Enter keywords to analyze in the README (comma-separated): \").split(',')\n",
    "    keywords = [k.strip() for k in keywords]\n",
    "    \n",
    "    repos = search_repositories(keyword)\n",
    "    for repo in repos:\n",
    "        process_repository(repo['full_name'], keywords)\n"
   ]
  }
 ],
 "metadata": {
  "kernelspec": {
   "display_name": "Python 3 (ipykernel)",
   "language": "python",
   "name": "python3"
  },
  "language_info": {
   "codemirror_mode": {
    "name": "ipython",
    "version": 3
   },
   "file_extension": ".py",
   "mimetype": "text/x-python",
   "name": "python",
   "nbconvert_exporter": "python",
   "pygments_lexer": "ipython3",
   "version": "3.12.7"
  }
 },
 "nbformat": 4,
 "nbformat_minor": 5
}
