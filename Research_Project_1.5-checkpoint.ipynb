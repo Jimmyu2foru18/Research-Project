{
 "cells": [
  {
   "cell_type": "code",
   "execution_count": null,
   "id": "05e7a0e6-276d-43fb-b7a5-63e5a32fbcb2",
   "metadata": {},
   "outputs": [],
   "source": [
    "!pip install PyGithub pandas openai"
   ]
  },
  {
   "cell_type": "code",
   "execution_count": null,
   "id": "f8547329-e30c-43f6-8443-67a98cb55062",
   "metadata": {},
   "outputs": [],
   "source": [
    "import os\n",
    "import openai\n",
    "from github import Github\n",
    "import pandas as pd  \n",
    "\n",
    "github_token = os.getenv('GITHUB_TOKEN')\n",
    "openai.api_key = os.getenv('OPENAI_API_KEY')\n",
    "\n",
    "if not openai.api_key or not github_token:\n",
    "    raise ValueError(\"API keys are not set. Please add the AI and GitHub API keys.\")\n",
    "\n",
    "g = Github(github_token)\n",
    "\n",
    "def search_repositories(keyword, language=\"python\", stars=\">=100\", max_repos=10):\n",
    "    query = f\"{keyword} language:{language} stars:{stars}\"\n",
    "    results = []\n",
    "    try:\n",
    "        for repo in g.search_repositories(query=query, sort=\"stars\", order=\"desc\")[:max_repos]:\n",
    "            results.append({\n",
    "                'full_name': repo.full_name,\n",
    "                'html_url': repo.html_url,\n",
    "                'description': repo.description\n",
    "            })\n",
    "        print(f\"Found {len(results)} repositories for keyword '{keyword}'.\")\n",
    "    except Exception as e:\n",
    "        print(f\"GitHub search error: {e}\")\n",
    "    return results\n",
    "\n",
    "def fetch_repository_details(repo_name):\n",
    "    try:\n",
    "        repo = g.get_repo(repo_name)\n",
    "        return repo.get_readme().decoded_content.decode(\"utf-8\")\n",
    "    except Exception as e:\n",
    "        print(f\"Error fetching {repo_name}: {e}\")\n",
    "        return None\n",
    "\n",
    "def analyze_readme_keywords(readme_content, keywords):\n",
    "    \"\"\"Analyze the README content for specified keywords.\"\"\"\n",
    "    data = pd.DataFrame({'content': [readme_content]})  # Using pandas\n",
    "    return {keyword: data['content'].str.contains(keyword).sum() for keyword in keywords}\n",
    "\n",
    "def process_repository(repo_full_name, keywords):\n",
    "    readme_content = fetch_repository_details(repo_full_name)\n",
    "    if readme_content:\n",
    "        keyword_counts = analyze_readme_keywords(readme_content, keywords)\n",
    "        print(f\"Keyword counts for {repo_full_name}: {keyword_counts}\")\n",
    "\n",
    "if __name__ == \"__main__\":\n",
    "    keyword = input(\"Enter a keyword to search for GitHub repositories: \")\n",
    "    keywords = input(\"Enter keywords to analyze in the README (comma-separated): \").split(',')\n",
    "    keywords = [k.strip() for k in keywords]\n",
    "\n",
    "    repos = search_repositories(keyword)\n",
    "    for repo in repos:\n",
    "        process_repository(repo['full_name'], keywords)\n"
   ]
  }
 ],
 "metadata": {
  "kernelspec": {
   "display_name": "Python 3 (ipykernel)",
   "language": "python",
   "name": "python3"
  },
  "language_info": {
   "codemirror_mode": {
    "name": "ipython",
    "version": 3
   },
   "file_extension": ".py",
   "mimetype": "text/x-python",
   "name": "python",
   "nbconvert_exporter": "python",
   "pygments_lexer": "ipython3",
   "version": "3.12.7"
  }
 },
 "nbformat": 4,
 "nbformat_minor": 5
}
